{
  "nbformat": 4,
  "nbformat_minor": 0,
  "metadata": {
    "kernelspec": {
      "display_name": "Python 3",
      "language": "python",
      "name": "python3"
    },
    "language_info": {
      "codemirror_mode": {
        "name": "ipython",
        "version": 3
      },
      "file_extension": ".py",
      "mimetype": "text/x-python",
      "name": "python",
      "nbconvert_exporter": "python",
      "pygments_lexer": "ipython3",
      "version": "3.7.9"
    },
    "colab": {
      "name": "numpy and matplotlib",
      "provenance": [],
      "include_colab_link": true
    }
  },
  "cells": [
    {
      "cell_type": "markdown",
      "metadata": {
        "id": "view-in-github",
        "colab_type": "text"
      },
      "source": [
        "<a href=\"https://colab.research.google.com/github/WaquarH/my-scratch/blob/main/numpy_and_matplotlib.ipynb\" target=\"_parent\"><img src=\"https://colab.research.google.com/assets/colab-badge.svg\" alt=\"Open In Colab\"/></a>"
      ]
    },
    {
      "cell_type": "markdown",
      "metadata": {
        "id": "nBDzrEU4o_MH"
      },
      "source": [
        "# Lecture 2 :  Numpy Array and Matplolib Visualisation"
      ]
    },
    {
      "cell_type": "markdown",
      "metadata": {
        "id": "19E5G0SHo_MI"
      },
      "source": [
        "In the last lecture, we studied the different containers of **PYTHON** like the list, string dictionary etc. \n",
        "We also saw how to control the flow in the code using *for*, *if-else* and *while* loop. \n",
        "\n",
        "In this lecture our focus will be on one of the most widely use **PYTHON OBJECT** called the *numpy.ndarray*. \n",
        "The standard library available in **PYTHON** for array manipulation is called the *Numpy*. We will also see how we can visualize such arrays using a very versatile plotting library called the *Matplotlib*. \n",
        "\n",
        "Advantages of *Numpy* : \n",
        "> 1. Extension package to Python for multi-dimensional arrays\n",
        "> 2. More efficient in terms of memory access due to same type of items\n",
        "> 3. Ideally suited for scientific computations. "
      ]
    },
    {
      "cell_type": "code",
      "metadata": {
        "id": "xRfqV7rpo_MI",
        "outputId": "477172a9-8e28-4ba3-94bd-f2d3105394dd"
      },
      "source": [
        "import numpy as np                              # Recommended way to import numpy \n",
        "import matplotlib.pyplot as plt                 # Recommended way to import all plotting commands\n",
        "\n",
        "# Magic word to load the namespace with numpy and matplotlib with inline figures\n",
        "%pylab inline                                   "
      ],
      "execution_count": null,
      "outputs": [
        {
          "output_type": "stream",
          "text": [
            "Populating the interactive namespace from numpy and matplotlib\n"
          ],
          "name": "stdout"
        }
      ]
    },
    {
      "cell_type": "code",
      "metadata": {
        "id": "xKRoo7ZRo_MJ",
        "outputId": "a8c6283d-81ea-4646-8234-77835c72189b"
      },
      "source": [
        "a = np.array([0., 1., 2., 3.])      # Creating a 1D array of 4 elements\n",
        "print (type(a), len(a), a.shape, a.ndim, a.T)\n",
        "\n",
        "aa=np.empty([10,10], 'float')\n",
        "\n",
        "bb=[0,1,2,3,4,5]\n",
        "\n",
        "bb=np.asarray(bb)"
      ],
      "execution_count": null,
      "outputs": [
        {
          "output_type": "stream",
          "text": [
            "<class 'numpy.ndarray'> 4 (4,) 1 [0. 1. 2. 3.]\n"
          ],
          "name": "stdout"
        }
      ]
    },
    {
      "cell_type": "markdown",
      "metadata": {
        "id": "aTVzTJtOo_MJ"
      },
      "source": [
        "Memory Efficiency can be easily demonstrated. "
      ]
    },
    {
      "cell_type": "code",
      "metadata": {
        "id": "w30iPynfo_MK"
      },
      "source": [
        "L = range(1000)\n",
        "print (type(L))\n",
        "%timeit [i**2 for i in range(1000)]  # Using for loop to square element wise. "
      ],
      "execution_count": null,
      "outputs": []
    },
    {
      "cell_type": "code",
      "metadata": {
        "id": "V05pjVyjo_MK"
      },
      "source": [
        "a = np.arange(1000)\n",
        "print type(a)\n",
        "%timeit a**2                       # Element wise squaring in array"
      ],
      "execution_count": null,
      "outputs": []
    },
    {
      "cell_type": "markdown",
      "metadata": {
        "id": "hW6jdj3Do_MK"
      },
      "source": [
        "Creating multi-dimensional arrays :\n",
        "    > Typing each element indivisually -- Not Practical!\n",
        "    > Using the start:stop and spacing information \n",
        "    > Using the start:stop and number of elements information."
      ]
    },
    {
      "cell_type": "code",
      "metadata": {
        "id": "Prraeg8Uo_ML",
        "outputId": "12e4fe72-0766-4c11-b1ee-7a3120741559"
      },
      "source": [
        "# Creating multi-dimensional arrays. \n",
        "b = np.array([[0,1,2], [3,4,5]])\n",
        "print (b, b.shape)"
      ],
      "execution_count": null,
      "outputs": [
        {
          "output_type": "stream",
          "text": [
            "[[0 1 2]\n",
            " [3 4 5]] (2, 3)\n"
          ],
          "name": "stdout"
        }
      ]
    },
    {
      "cell_type": "code",
      "metadata": {
        "id": "BT-wZtFjo_ML",
        "outputId": "cb633350-0251-4c7d-8686-c01e6e7d6732"
      },
      "source": [
        "print (len(b))                  # Returns the size of the first dimension. \n",
        "print (b.shape)                 # Returns number of rows x number of columns \n",
        "print (b.ndim)                  # Returns dimension of the array."
      ],
      "execution_count": null,
      "outputs": [
        {
          "output_type": "stream",
          "text": [
            "2\n",
            "(2, 3)\n",
            "2\n"
          ],
          "name": "stdout"
        }
      ]
    },
    {
      "cell_type": "code",
      "metadata": {
        "id": "-WMquBNho_ML"
      },
      "source": [
        "c = np.array([[[1], [2]], [[3], [4]]])\n",
        "print c"
      ],
      "execution_count": null,
      "outputs": []
    },
    {
      "cell_type": "code",
      "metadata": {
        "id": "vGVYm9Vko_MM"
      },
      "source": [
        "print len(c)\n",
        "print c.shape\n",
        "print c.ndim"
      ],
      "execution_count": null,
      "outputs": []
    },
    {
      "cell_type": "code",
      "metadata": {
        "id": "sQGYHDHko_MM",
        "outputId": "18ced27c-1bb7-430b-d0f7-044c4a17b8df"
      },
      "source": [
        "# Evenly spaced arrays using spacing information \n",
        "\n",
        "a = np.arange(10)                   # 0,1,...9 by default the spacing is 1.\n",
        "print (a)\n",
        "\n",
        "b = np.arange(1,9,2)                # start, end (not included), spacing\n",
        "print (b)"
      ],
      "execution_count": null,
      "outputs": [
        {
          "output_type": "stream",
          "text": [
            "[0 1 2 3 4 5 6 7 8 9]\n",
            "[1 3 5 7]\n"
          ],
          "name": "stdout"
        }
      ]
    },
    {
      "cell_type": "code",
      "metadata": {
        "id": "HetpifkJo_MM",
        "outputId": "022b136f-cae9-45b5-e2fa-994166f13243"
      },
      "source": [
        "# Evenly spaced arrays using number of points.\n",
        "\n",
        "a = np.linspace(0,1,6)            # start, end (included), number of points\n",
        "print (a)\n",
        "\n",
        "b = np.linspace(0,1,6,endpoint=False)  # start, end (not included), number of points\n",
        "print (b)\n",
        "\n",
        "d = np.linspace(-1.0,5.0,7)\n",
        "print (d, 10**d)\n",
        "c = np.logspace(-1.0, 5.0, 7)\n",
        "print (c)\n"
      ],
      "execution_count": null,
      "outputs": [
        {
          "output_type": "stream",
          "text": [
            "[0.  0.2 0.4 0.6 0.8 1. ]\n",
            "[0.         0.16666667 0.33333333 0.5        0.66666667 0.83333333]\n",
            "[-1.  0.  1.  2.  3.  4.  5.] [1.e-01 1.e+00 1.e+01 1.e+02 1.e+03 1.e+04 1.e+05]\n",
            "[1.e-01 1.e+00 1.e+01 1.e+02 1.e+03 1.e+04 1.e+05]\n"
          ],
          "name": "stdout"
        }
      ]
    },
    {
      "cell_type": "markdown",
      "metadata": {
        "id": "Cw_A8qy7o_MN"
      },
      "source": [
        "Most times the above method of creating an array is used. However in certain cases, it may be require to initialize an array and later replace its elements based on some criteria. **Numpy** provides various methods to initialize such arrays."
      ]
    },
    {
      "cell_type": "code",
      "metadata": {
        "id": "HKFgqb03o_MN",
        "outputId": "405373aa-15fe-404d-9ec7-722fff026a5d"
      },
      "source": [
        "# Other common types of arrays needed for initialize.\n",
        "a = np.zeros(shape=(3,3))\n",
        "print (a)"
      ],
      "execution_count": null,
      "outputs": [
        {
          "output_type": "stream",
          "text": [
            "[[0. 0. 0.]\n",
            " [0. 0. 0.]\n",
            " [0. 0. 0.]]\n"
          ],
          "name": "stdout"
        }
      ]
    },
    {
      "cell_type": "code",
      "metadata": {
        "id": "K9m5oZ4Mo_MN",
        "outputId": "321be064-0a49-404e-ed57-8b4117c8c675"
      },
      "source": [
        "b = np.zeros(shape=(2,4,2))\n",
        "print (b)"
      ],
      "execution_count": null,
      "outputs": [
        {
          "output_type": "stream",
          "text": [
            "[[[0. 0.]\n",
            "  [0. 0.]\n",
            "  [0. 0.]\n",
            "  [0. 0.]]\n",
            "\n",
            " [[0. 0.]\n",
            "  [0. 0.]\n",
            "  [0. 0.]\n",
            "  [0. 0.]]]\n"
          ],
          "name": "stdout"
        }
      ]
    },
    {
      "cell_type": "code",
      "metadata": {
        "id": "LHkkPoRXo_MO",
        "outputId": "fe9badbe-7258-4229-e8f5-a6043ab9afd1"
      },
      "source": [
        "c = np.diag([1,3,5])\n",
        "print (c)"
      ],
      "execution_count": null,
      "outputs": [
        {
          "output_type": "stream",
          "text": [
            "[[1 0 0]\n",
            " [0 3 0]\n",
            " [0 0 5]]\n"
          ],
          "name": "stdout"
        }
      ]
    },
    {
      "cell_type": "code",
      "metadata": {
        "id": "ch3sInOXo_MO",
        "outputId": "2716fbce-f08c-4913-d36d-b300932cad71"
      },
      "source": [
        "import numpy as np\n",
        "A = np.array([[2,3],[3,4]])\n",
        "print (A.shape)\n",
        "B = np.zeros_like(A)\n",
        "print (B)\n",
        "print (A)"
      ],
      "execution_count": null,
      "outputs": [
        {
          "output_type": "stream",
          "text": [
            "(2, 2)\n",
            "[[0 0]\n",
            " [0 0]]\n",
            "[[2 3]\n",
            " [3 4]]\n"
          ],
          "name": "stdout"
        }
      ]
    },
    {
      "cell_type": "markdown",
      "metadata": {
        "id": "53qLPoato_MO"
      },
      "source": [
        "**Numpy** has a special attribute for generating **random numbers** using the *Mersenne Twister Pseudo Random Number Genrator*."
      ]
    },
    {
      "cell_type": "code",
      "metadata": {
        "id": "Y8DO2iEfo_MP",
        "outputId": "6f8607fb-63b3-4053-94ba-a0e07feeadc2"
      },
      "source": [
        "a = np.random.rand(4)                 # 1D array with 4 uniform random numbers between [0, 1]\n",
        "print (a)\n",
        "\n",
        "l1 = 3.0\n",
        "l2 = 6.0\n",
        "a = l1 + (l2 - l1)*np.random.rand(10) # 1D array with 10 uniform random numbers between [3.0, 6.0]\n",
        "print (a)"
      ],
      "execution_count": null,
      "outputs": [
        {
          "output_type": "stream",
          "text": [
            "[0.89829467 0.56671314 0.38900615 0.93896886]\n",
            "[4.08650649 5.7368828  5.85724447 3.43025668 4.50511698 4.17946014\n",
            " 5.0186234  3.77977648 5.19809212 4.618861  ]\n"
          ],
          "name": "stdout"
        }
      ]
    },
    {
      "cell_type": "code",
      "metadata": {
        "id": "gWvqRyVno_MP"
      },
      "source": [
        "np.random.seed(1234)                    #With the seed reset (every time), the same set of numbers will appear every time.\n",
        "sigma = 1.0\n",
        "mu = 0.0\n",
        "b = sigma*np.random.randn(2,4) + mu     # 2D array of normal random numbers i.e.,Gaussian distribution with mu and sigma\n",
        "\n",
        "print (b)\n",
        "np.random.seed(1234)                  # This sets the seed for generating random numbers, useful for repeatblity."
      ],
      "execution_count": null,
      "outputs": []
    },
    {
      "cell_type": "code",
      "metadata": {
        "id": "igOT3oQDo_MP"
      },
      "source": [
        "np.random?"
      ],
      "execution_count": null,
      "outputs": []
    },
    {
      "cell_type": "markdown",
      "metadata": {
        "id": "_faPkS9Ao_MP"
      },
      "source": [
        "It is **imperative** that a numpy.ndarray object contains same type of elements. \n",
        "\n",
        "One can check the type of elements inside the numpy array using the attribute *dtype*."
      ]
    },
    {
      "cell_type": "code",
      "metadata": {
        "id": "jwyaIc2do_MQ"
      },
      "source": [
        "a = np.array([1,2,3])\n",
        "print (a.dtype)\n",
        "\n",
        "b = np.array([1.,2.,3.])\n",
        "bi = np.array([1.,2.,3.], dtype='int64')\n",
        "print (b.dtype, bi.dtype)\n",
        "\n",
        "c = np.array([True, False, True, False , False])\n",
        "print (c.dtype)\n",
        "\n",
        "d = np.zeros(shape=(4,), dtype='complex128')\n",
        "d.real = np.random.rand(4) \n",
        "d.imag = np.random.randn(4)\n",
        "print (d.dtype, d)"
      ],
      "execution_count": null,
      "outputs": []
    },
    {
      "cell_type": "markdown",
      "metadata": {
        "id": "jWzLlwRPo_MQ"
      },
      "source": [
        "**Slicing and Indexing of Numpy Arrays**\n",
        "\n",
        "The items in the array can be accessed and assigned in exactly the same manner as it is done for the *lists*. \n",
        "*NOTE* : The indexing begins from 0, just like *C* Language. "
      ]
    },
    {
      "cell_type": "code",
      "metadata": {
        "id": "Wx5haYb_o_MQ",
        "outputId": "98e5006c-7787-45d1-a271-04c253fd0123"
      },
      "source": [
        "#1D array -- exactly same as list.\n",
        "\n",
        "a = np.arange(2,42,3)\n",
        "print (a)\n",
        "indxarr = np.arange(1,len(a),2)\n",
        "for j in indxarr:\n",
        "    print (\"The %d element of Array is %f\"%(j,a[j]))\n",
        "    \n",
        "b = a[::-1]                            # Reversing the array 'a' and storing the result in 'b'à\n",
        "print (b[:4])                           # printing first 4 elements of b. "
      ],
      "execution_count": null,
      "outputs": [
        {
          "output_type": "stream",
          "text": [
            "[ 2  5  8 11 14 17 20 23 26 29 32 35 38 41]\n",
            "The 1 element of Array is 5.000000\n",
            "The 3 element of Array is 11.000000\n",
            "The 5 element of Array is 17.000000\n",
            "The 7 element of Array is 23.000000\n",
            "The 9 element of Array is 29.000000\n",
            "The 11 element of Array is 35.000000\n",
            "The 13 element of Array is 41.000000\n",
            "[41 38 35 32]\n"
          ],
          "name": "stdout"
        }
      ]
    },
    {
      "cell_type": "code",
      "metadata": {
        "id": "Dx8uBhPHo_MQ",
        "outputId": "8cd8dc43-9fcb-4cf6-f0f1-0e2d4908ad7b"
      },
      "source": [
        "#2D Array -- Interesting things can be done using some very cool indexing.\n",
        "\n",
        "a = np.ones(shape=(3,4))\n",
        "print(a)\n",
        "a[2,3] = a[1,2] = 0 \n",
        "print(a)                             # setting indivisual element \n",
        "a[-1] = -1  \n",
        "print(a)                                    # Complete last row of the array\n",
        "a[:, -1] = -20                         # Complete last column of the array --> roots of Broadcasting!!\n",
        "print (a)"
      ],
      "execution_count": null,
      "outputs": [
        {
          "output_type": "stream",
          "text": [
            "[[1. 1. 1. 1.]\n",
            " [1. 1. 1. 1.]\n",
            " [1. 1. 1. 1.]]\n",
            "[[1. 1. 1. 1.]\n",
            " [1. 1. 0. 1.]\n",
            " [1. 1. 1. 0.]]\n",
            "[[ 1.  1.  1.  1.]\n",
            " [ 1.  1.  0.  1.]\n",
            " [-1. -1. -1. -1.]]\n",
            "[[  1.   1.   1. -20.]\n",
            " [  1.   1.   0. -20.]\n",
            " [ -1.  -1.  -1. -20.]]\n"
          ],
          "name": "stdout"
        }
      ]
    },
    {
      "cell_type": "markdown",
      "metadata": {
        "id": "OJ7gZpE1o_MR"
      },
      "source": [
        "**BROADCASTING**\n",
        "\n",
        "As we saw above the basic operations on numpy arrays works elementwise and therefore one would imagine that when we add two matrices they should have same array. With the technique of *Broadcasting*, it is also possible to do operations on arrays of different sizes in case *numpy* can transform these arrays so to have same size."
      ]
    },
    {
      "cell_type": "markdown",
      "metadata": {
        "id": "_N3H41kOo_MR"
      },
      "source": [
        "<img src='numpy_broadcasting.png'>"
      ]
    },
    {
      "cell_type": "code",
      "metadata": {
        "id": "2GuS-HLno_MR",
        "outputId": "6665edc5-c7fa-4e45-c4f8-7a31bc6ccb33"
      },
      "source": [
        "a = np.arange(0,40,10)\n",
        "b = np.array([0.,1., 2.])\n",
        "#METHOD 0\n",
        "#c = a + b\n",
        "#print (c)\n",
        "\n",
        "#METHOD 1\n",
        "#A = np.zeros([4,3])\n",
        "#for i in range(3): A[:,i] = a\n",
        "#c = A + b\n",
        "#print c\n",
        "\n",
        "\n",
        "#METHOD 2\n",
        "a = np.arange(0,40,10)\n",
        "b = np.array([0.,1., 2.])\n",
        "A = a[:, np.newaxis]\n",
        "print (a.shape, A.shape)\n",
        "c = A + b  \n",
        "\n",
        "print (a) \n",
        "print (A) \n",
        "print (b)\n",
        "print (c)"
      ],
      "execution_count": null,
      "outputs": [
        {
          "output_type": "stream",
          "text": [
            "(4,) (4, 1)\n",
            "[ 0 10 20 30]\n",
            "[[ 0]\n",
            " [10]\n",
            " [20]\n",
            " [30]]\n",
            "[0. 1. 2.]\n",
            "[[ 0.  1.  2.]\n",
            " [10. 11. 12.]\n",
            " [20. 21. 22.]\n",
            " [30. 31. 32.]]\n"
          ],
          "name": "stdout"
        }
      ]
    },
    {
      "cell_type": "markdown",
      "metadata": {
        "id": "Yxa7dWB_o_MS"
      },
      "source": [
        "**!IMPORTANT!: Copies and Views**\n",
        "\n",
        "A slicing operation that we saw above just creates a view of the original array and its not allocated any new memory space. Therefore one has to be very careful in modifying the view of the original array as there may be serious consequences.  This is really tricky but its designed to ensure efficient memory handling. \n",
        "\n",
        "**REMEMBER** - VIEWS SHARE SAME MEMORY WITH THE ARRAY AND COPIES DONT. SO MODIFY THE COPIES!.\n",
        "\n",
        "This can be cleared with the following example. "
      ]
    },
    {
      "cell_type": "code",
      "metadata": {
        "id": "5TXPB2Q4o_MS"
      },
      "source": [
        "a = np.arange(2.,42.,3)\n",
        "b = a[::2]\n",
        "print (\"The array a = \",a)\n",
        "print (\"The array b = \",b\n",
        "b[0] = -100.\n",
        "print (\"The new array b = \",b)                           # This is expected. \n",
        "print (\"The new array a = \",a)                             # !!!!!\n",
        "\n",
        "print (np.may_share_memory(a,b))"
      ],
      "execution_count": null,
      "outputs": []
    },
    {
      "cell_type": "code",
      "metadata": {
        "id": "DIjNUDGjo_MS"
      },
      "source": [
        "a = np.arange(2.,42.,3)\n",
        "b = a[::2].copy()                                      # This forces numpy to allocate new memory for b\n",
        "print (\"The array a = \",a)\n",
        "print (\"The array b = \",b)\n",
        "b[0] = -100.\n",
        "print (\"The new array b = \",b)                           # This is expected. \n",
        "print (\"The new array a = \",a)                             # !!!!!\n",
        "\n",
        "print (np.may_share_memory(a,b))"
      ],
      "execution_count": null,
      "outputs": []
    },
    {
      "cell_type": "markdown",
      "metadata": {
        "id": "scXfgo0_o_MS"
      },
      "source": [
        "** Fancy Indexing with Numpy ** \n",
        "\n",
        "The indexing and slicing in numpy gives loads of flexible options and can be widely used for smart manipulation. \n",
        "For example, the index of numpy arrays need not be just a single integer but can also be *booleans* or a *list* of integers."
      ]
    },
    {
      "cell_type": "code",
      "metadata": {
        "id": "nQ_kI0SXo_MT"
      },
      "source": [
        "np.random.seed(3)\n",
        "\n",
        "a = np.random.rand(15)                    # An array of 15 random floats with a chosen seed.\n",
        "print (a)\n",
        "a[4:8] = np.log(0)\n",
        "# Now the task is to find all values in this array that are infinity \n",
        "print (np.isinf(a))\n",
        "mask = (np.isinf(a))\n",
        "\n",
        "#Replace these values by -100\n",
        "masked_array = a[mask]                           # or simply masked_array = a[a%3 == 0]\n",
        "\n",
        "print (\"The original array : \", a) \n",
        "print (\"The masked array : \",masked_array)\n",
        "\n",
        "a[mask] = -1 \n",
        "\n",
        "print (\"The manipulated array \", a)"
      ],
      "execution_count": null,
      "outputs": []
    },
    {
      "cell_type": "markdown",
      "metadata": {
        "id": "FhCFMx2yo_MT"
      },
      "source": [
        "**MATHEMATICAL OPERATIONS**\n",
        "\n",
        "*Numpy* provides suite of mathematical, logical and reduction methods that can be used to manipulate the array \n",
        "**elementwise**. It is very important to ensure that the rules are followed in terms of matching the size of involved arrays. \n",
        "\n",
        "*BASIC OPERATIONS*"
      ]
    },
    {
      "cell_type": "code",
      "metadata": {
        "id": "j2uR6ypno_MT"
      },
      "source": [
        "a = np.arange(6, dtype='float64')\n",
        "b = np.linspace(1.0,2.0,6)\n",
        "print (a, \"+ 2*\", b, '=',  a+2.0*b)\n",
        "\n",
        "c = np.linspace(-2.0, -6.0, 5)\n",
        "print (a + c)"
      ],
      "execution_count": null,
      "outputs": []
    },
    {
      "cell_type": "code",
      "metadata": {
        "id": "5eWcfDeso_MU"
      },
      "source": [
        "# Simple power, multiplication etc are done elementwise.\n",
        "\n",
        "c = np.ones(shape=(3,3))\n",
        "print (\"Elementwise multiplication \")\n",
        "print (c*c)             \n",
        "\n",
        "print (\"Matrix Multiplication\")\n",
        "print (np.inner(c,c))                       # c.dot(c) will also be fine."
      ],
      "execution_count": null,
      "outputs": []
    },
    {
      "cell_type": "markdown",
      "metadata": {
        "id": "dC-bfGl8o_MU"
      },
      "source": [
        "*TRANCENDENTAL FUNCTIONS* : Numpy also has provision for trancendental functions as sine, cosine, log, tangent, exp etc."
      ]
    },
    {
      "cell_type": "code",
      "metadata": {
        "id": "H3XzyUYOo_MU",
        "outputId": "2e0e62ee-810d-49c7-cec8-0b6fbb4fbf6f"
      },
      "source": [
        "import matplotlib.pyplot as plt\n",
        "a = np.linspace(0.,2.*np.pi,12)\n",
        "plt.plot(a, np.sin(a), 'r-o')                           # The first 1D plot using matplotlib... more later.\n"
      ],
      "execution_count": null,
      "outputs": [
        {
          "output_type": "execute_result",
          "data": {
            "text/plain": [
              "[<matplotlib.lines.Line2D at 0x16906d6fa48>]"
            ]
          },
          "metadata": {
            "tags": []
          },
          "execution_count": 12
        },
        {
          "output_type": "display_data",
          "data": {
            "image/png": "[encoded data removed]",
            "text/plain": [
              "<Figure size 432x288 with 1 Axes>"
            ]
          },
          "metadata": {
            "tags": [],
            "needs_background": "light"
          }
        }
      ]
    },
    {
      "cell_type": "markdown",
      "metadata": {
        "id": "Zb7tWQETo_MU"
      },
      "source": [
        "*LOGICAL FUNCTIONS* : Can do all sorts of logical operations between two arrays of same size elementwise."
      ]
    },
    {
      "cell_type": "code",
      "metadata": {
        "id": "nbRfXq5eo_MV",
        "outputId": "eff9315f-dd90-41dc-d9c0-e2da4f523834"
      },
      "source": [
        "a = np.linspace(2.0,6.0,5)\n",
        "b = np.linspace(1.0,10.0,5)\n",
        "b[2] = 0\n",
        "a[2] = a[-1] = 0\n",
        "np.logical_or(a, b)\n",
        "print (a == b)"
      ],
      "execution_count": null,
      "outputs": [
        {
          "output_type": "stream",
          "text": [
            "[False False  True False False]\n"
          ],
          "name": "stdout"
        }
      ]
    },
    {
      "cell_type": "markdown",
      "metadata": {
        "id": "sg7btg8do_MV"
      },
      "source": [
        "*REDUCTION OPERATIONS* : Very useful in most of the cases that we will encounter. They inlove summing, finding min and max of array, finding the index of a particular element etc."
      ]
    },
    {
      "cell_type": "code",
      "metadata": {
        "id": "cmnrSOXoo_MV"
      },
      "source": [
        "x = np.arange(1,8,2)\n",
        "print x\n",
        "\n",
        "print (\"The sum is : %d\"%np.sum(x))\n",
        "print x.sum()"
      ],
      "execution_count": null,
      "outputs": []
    },
    {
      "cell_type": "code",
      "metadata": {
        "id": "PEx1ZhK4o_MV",
        "outputId": "04c48918-36dd-4542-cca7-d5f1bdd0b920"
      },
      "source": [
        "x2D = np.array([[1,1,3],[3,4,7]])\n",
        "print (x2D.shape)\n",
        "print (\"sum all rows for a given column\", np.sum(x2D, axis=0))\n",
        "print (\"this is same as \", np.array([np.sum(x2D[:,0]), np.sum(x2D[:,1]), np.sum(x2D[:,2])]))\n",
        "\n",
        "print (\"sum all columns for a given row\", np.sum(x2D, axis=1))\n",
        "print (\"this is same as \", np.array([np.sum(x2D[0,:]), np.sum(x2D[1,:])]))\n"
      ],
      "execution_count": null,
      "outputs": [
        {
          "output_type": "stream",
          "text": [
            "(2, 3)\n",
            "sum all rows for a given column [ 4  5 10]\n",
            "this is same as  [ 4  5 10]\n",
            "sum all columns for a given row [ 5 14]\n",
            "this is same as  [ 5 14]\n"
          ],
          "name": "stdout"
        }
      ]
    },
    {
      "cell_type": "code",
      "metadata": {
        "id": "4pbkEKANo_MV",
        "outputId": "7a4dede7-e28e-4ed3-aba9-82551caa9c3c"
      },
      "source": [
        "# Flattening from multi-dimensional array to 1D. \n",
        "x1D = x2D.flatten()\n",
        "print (np.shape(x1D), x1D)\n",
        "\n",
        "# Reshaping the array for a given size. Note n*m*l = number of elements in array.\n",
        "x2Dn = x1D.reshape(3,2)\n",
        "print (x2Dn)\n",
        "\n"
      ],
      "execution_count": null,
      "outputs": [
        {
          "output_type": "stream",
          "text": [
            "(6,) [1 1 3 3 4 7]\n",
            "[[1 1]\n",
            " [3 3]\n",
            " [4 7]]\n"
          ],
          "name": "stdout"
        }
      ]
    },
    {
      "cell_type": "markdown",
      "metadata": {
        "collapsed": true,
        "id": "3rUBnpF-o_MW"
      },
      "source": [
        "** MATPLOTLIB BASIC PLOTTING **\n",
        "\n",
        "We will start with a basic line plot and then go on modifying it learning method of how to tinker with the matploib figure. "
      ]
    },
    {
      "cell_type": "code",
      "metadata": {
        "id": "l5IKthTko_MW",
        "outputId": "deef745b-5357-4eb0-83bd-ef61ce7e15c3"
      },
      "source": [
        "x = np.linspace(-np.pi, np.pi, 256, endpoint=True)          # define an array using linspace.\n",
        "C, S = np.cos(x), np.sin(x)\n",
        "plt.plot(x, C,'.', color='blue')\n",
        "plt.plot(x, S, color='green')"
      ],
      "execution_count": null,
      "outputs": [
        {
          "output_type": "execute_result",
          "data": {
            "text/plain": [
              "[<matplotlib.lines.Line2D at 0x16906e38108>]"
            ]
          },
          "metadata": {
            "tags": []
          },
          "execution_count": 18
        },
        {
          "output_type": "display_data",
          "data": {
            "image/png": "[encoded data removed]",
            "text/plain": [
              "<Figure size 432x288 with 1 Axes>"
            ]
          },
          "metadata": {
            "tags": [],
            "needs_background": "light"
          }
        }
      ]
    },
    {
      "cell_type": "code",
      "metadata": {
        "id": "yLzeugFOo_MW",
        "outputId": "272b962b-e882-4d5b-c7ae-f247b1575475"
      },
      "source": [
        "plt.plot(x, C, color='black', linestyle='--')\n",
        "plt.plot(x, S, color='green', linewidth=2)"
      ],
      "execution_count": null,
      "outputs": [
        {
          "output_type": "execute_result",
          "data": {
            "text/plain": [
              "[<matplotlib.lines.Line2D at 0x16906eacbc8>]"
            ]
          },
          "metadata": {
            "tags": []
          },
          "execution_count": 19
        },
        {
          "output_type": "display_data",
          "data": {
            "image/png": "[encoded data removed]",
            "text/plain": [
              "<Figure size 432x288 with 1 Axes>"
            ]
          },
          "metadata": {
            "tags": [],
            "needs_background": "light"
          }
        }
      ]
    },
    {
      "cell_type": "code",
      "metadata": {
        "id": "aZPJqosIo_MW"
      },
      "source": [
        "plt.figure(figsize=[4,4], dpi=80)\n",
        "plt.subplot(1,1,1)                  # No. of rows, No of columns and index. \n",
        "plt.plot(x, C, color='black', linestyle='--', label=r'Cosine : cos$\\theta$')\n",
        "plt.plot(x, S, color='green', linewidth=2, label=r'Sine : sin$\\theta$')\n",
        "plt.xlim([-5.0,5.])\n",
        "plt.xticks(np.linspace(-5.,5.,9,endpoint=True), fontsize=12)\n",
        "plt.ylim([-2.0,2.])\n",
        "plt.yticks(np.linspace(-2.,2.,5,endpoint=True), ['Mon', 'Tue', 'Wed', 'Thur', 'Fri'])\n",
        "plt.legend(loc='upper right')\n",
        "plt.xlabel('x')\n",
        "plt.ylabel(r'$\\rho , \\eta$')\n",
        "–\n",
        "ax = plt.gca()\n",
        "ax.spines['right'].set_color('none')\n",
        "ax.yaxis.set_ticks_position('left')\n",
        "\n",
        "#ax = plt.gca()\n",
        "ax.spines['top'].set_color('none')\n",
        "ax.xaxis.set_ticks_position('bottom')\n",
        "\n",
        "plt.figtext(0.5, 0.2,r'Trignometry',fontsize=24)\n",
        "\n",
        "#Annotation!! Slightly Complex. \n",
        "t = 2.0*np.pi/3.\n",
        "plt.scatter([t,], [np.sin(t),], 50,color='k',marker='o')\n",
        "plt.annotate(r'Value = %.2f'%np.sin(t), \n",
        "             xy=(t, np.sin(t)), xycoords='data', \n",
        "             xytext=(+10, 30), textcoords='offset points', \n",
        "             arrowprops=dict(arrowstyle='<->',connectionstyle='arc3,rad=0.2'))"
      ],
      "execution_count": null,
      "outputs": []
    },
    {
      "cell_type": "code",
      "metadata": {
        "collapsed": true,
        "id": "No1kwWoSo_MX"
      },
      "source": [
        ""
      ],
      "execution_count": null,
      "outputs": []
    }
  ]
}