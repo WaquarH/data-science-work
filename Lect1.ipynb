{
  "nbformat": 4,
  "nbformat_minor": 0,
  "metadata": {
    "kernelspec": {
      "display_name": "Python 3",
      "language": "python",
      "name": "python3"
    },
    "language_info": {
      "codemirror_mode": {
        "name": "ipython",
        "version": 3
      },
      "file_extension": ".py",
      "mimetype": "text/x-python",
      "name": "python",
      "nbconvert_exporter": "python",
      "pygments_lexer": "ipython3",
      "version": "3.7.9"
    },
    "colab": {
      "name": "Lect1.ipynb",
      "provenance": [],
      "include_colab_link": true
    }
  },
  "cells": [
    {
      "cell_type": "markdown",
      "metadata": {
        "id": "view-in-github",
        "colab_type": "text"
      },
      "source": [
        "<a href=\"https://colab.research.google.com/github/WaquarH/my-scratch/blob/main/Lect1.ipynb\" target=\"_parent\"><img src=\"https://colab.research.google.com/assets/colab-badge.svg\" alt=\"Open In Colab\"/></a>"
      ]
    },
    {
      "cell_type": "markdown",
      "metadata": {
        "id": "oRndvUqom72z"
      },
      "source": [
        "# Lecture 1 : Getting Started with Python"
      ]
    },
    {
      "cell_type": "markdown",
      "metadata": {
        "id": "yf40QjpEm721"
      },
      "source": [
        "**WHAT IS PYTHON?**\n",
        "\n",
        "1. *Python* is an high level programming language and is *interperated*  $\\rightarrow$ No need to pre-compile the code like you do for C or Fortran.\n",
        "2. User-friendly syntax $\\rightarrow$ simplifies the code considerably and makes its easily readable.\n",
        "3. Uses the *Objected Oriented Programming* fundamentals $\\rightarrow$ The basic building block in *Python* is an **OBJECT**\n",
        "4. Has large number of scientific, manipulative and graphic libraries $\\rightarrow$ Ideal for scientific and engineering coding\n",
        "5. Fully **Open Source** $\\rightarrow$ A distinct advantage over pricy *IDL* or *Matlab*"
      ]
    },
    {
      "cell_type": "markdown",
      "metadata": {
        "id": "8mVVWl5Am722"
      },
      "source": [
        "**INSTALLATION**\n",
        "\n",
        "1. Native Python installation comes with mostly all Linux distribution and also with Mac.\n",
        "2. There are few standalone Python distribution also available : Enthougth, Anaconda, PythonXY (for Windows) etc.\n",
        "3. Standard Libraries can be also obtained from *Python Package Index* [**RECOMMENDED**]\n",
        "4. You can also use python-setuptools and the command there is *easy_install* instead of *pip*. "
      ]
    },
    {
      "cell_type": "raw",
      "metadata": {
        "id": "gXBlg1JQm722"
      },
      "source": [
        "FIRST Install python-pip\n",
        "$> sudo apt-get install python-pip                    #For Ubuntu.\n",
        "\n",
        "pip works with CPython versions 2.7,3.5,3.6,3.7,3.8 and also PyPy\n",
        "\n",
        "THEN ALMOST ALL LIBRARIES CAN BE INSTALLED AS FOLLOWS-\n",
        "$> pip install SomePackage                            # Latest Version.\n",
        "$> pip install SomePackage==1.0.4                     # Specific Version.\n",
        "$> pip install SomePackage>=1.0.4                     # minimum Version.\n",
        "$> pip uninstall SomePackage                          # Uninstall current version.\n",
        "$> pip install --upgrade SomePackage                  # Upgrade current to latest version.\n",
        "$> pip install -U SomePackage                         # User install in $PYTHONPATH (No need for Admin rights)"
      ]
    },
    {
      "cell_type": "markdown",
      "metadata": {
        "id": "F8yeGHCFm723"
      },
      "source": [
        "**USAGE**\n",
        "\n",
        "Simply type *python* in the terminal $\\rightarrow$ "
      ]
    },
    {
      "cell_type": "raw",
      "metadata": {
        "id": "-AMC8_HMm723"
      },
      "source": [
        "Python 2.7.6 (default, Sep  9 2014, 15:04:36) \n",
        "[GCC 4.2.1 Compatible Apple LLVM 6.0 (clang-600.0.39)] on darwin\n",
        "Type \"help\", \"copyright\", \"credits\" or \"license\" for more information.\n",
        ">>> "
      ]
    },
    {
      "cell_type": "markdown",
      "metadata": {
        "id": "XsYhHjPUm724"
      },
      "source": [
        "Or using the *Ipython* environment by typing the same in the terminal $\\rightarrow$"
      ]
    },
    {
      "cell_type": "raw",
      "metadata": {
        "id": "DnXBZYSvm724"
      },
      "source": [
        "Python 2.7.6 (default, Sep  9 2014, 15:04:36) \n",
        "Type \"copyright\", \"credits\" or \"license\" for more information.\n",
        "\n",
        "IPython 5.1.0 -- An enhanced Interactive Python.\n",
        "?         -> Introduction and overview of IPython's features.\n",
        "%quickref -> Quick reference.\n",
        "help      -> Python's own help system.\n",
        "object?   -> Details about 'object', use 'object??' for extra details.\n",
        "\n",
        "In [1]: "
      ]
    },
    {
      "cell_type": "markdown",
      "metadata": {
        "id": "PWvF3Lwfm724"
      },
      "source": [
        "In case you want to have the pylab : Numpy & Matplotlib, you should type *ipython --pylab* in the terminal"
      ]
    },
    {
      "cell_type": "raw",
      "metadata": {
        "id": "9v2myCphm725"
      },
      "source": [
        "Python 2.7.6 (default, Sep  9 2014, 15:04:36) \n",
        "Type \"copyright\", \"credits\" or \"license\" for more information.\n",
        "\n",
        "IPython 5.1.0 -- An enhanced Interactive Python.\n",
        "?         -> Introduction and overview of IPython's features.\n",
        "%quickref -> Quick reference.\n",
        "help      -> Python's own help system.\n",
        "object?   -> Details about 'object', use 'object??' for extra details.\n",
        "Using matplotlib backend: MacOSX\n",
        "\n",
        "In [1]: "
      ]
    },
    {
      "cell_type": "markdown",
      "metadata": {
        "id": "EHrmiJxwm725"
      },
      "source": [
        "Finally, you can use the *ipython notebook* interface for quick check and coding. The notebook is made of *cells* where code, Markdown text, Raw text can be written. To Execute the cell press *shift-enter* "
      ]
    },
    {
      "cell_type": "markdown",
      "metadata": {
        "id": "Jg_5oGomm725"
      },
      "source": [
        "**PRINTING IN PYTHON** "
      ]
    },
    {
      "cell_type": "code",
      "metadata": {
        "colab": {
          "base_uri": "https://localhost:8080/"
        },
        "id": "uaamj9aBm725",
        "outputId": "0f6550c6-227e-4901-d523-1142f506bee5"
      },
      "source": [
        "print(\"Hello World\")#\"Hello World\"     #String can either be in double quotes "
      ],
      "execution_count": 1,
      "outputs": [
        {
          "output_type": "stream",
          "text": [
            "Hello World\n"
          ],
          "name": "stdout"
        }
      ]
    },
    {
      "cell_type": "code",
      "metadata": {
        "colab": {
          "base_uri": "https://localhost:8080/"
        },
        "id": "9FsVmYGCm726",
        "outputId": "da1a5662-ed6c-4733-cb42-6c4f91b8eb4d"
      },
      "source": [
        "s = 'Hello World'      # or single quotes.\n",
        "print(s)"
      ],
      "execution_count": 2,
      "outputs": [
        {
          "output_type": "stream",
          "text": [
            "Hello World\n"
          ],
          "name": "stdout"
        }
      ]
    },
    {
      "cell_type": "code",
      "metadata": {
        "colab": {
          "base_uri": "https://localhost:8080/"
        },
        "id": "W1Z1wKZEm727",
        "outputId": "5184fd05-b7a4-4e64-8b77-859db5f6b63c"
      },
      "source": [
        "print (\"The string I wish to print is '%s'\"%s)            #In case you need to use single quotes inside\n",
        "print ('The string I do not wish to print is \"%s\"'%('Bye World'))    #or vice versa."
      ],
      "execution_count": 3,
      "outputs": [
        {
          "output_type": "stream",
          "text": [
            "The string I wish to print is 'Hello World'\n",
            "The string I do not wish to print is \"Bye World\"\n"
          ],
          "name": "stdout"
        }
      ]
    },
    {
      "cell_type": "code",
      "metadata": {
        "colab": {
          "base_uri": "https://localhost:8080/"
        },
        "id": "Ymj8EyNhm727",
        "outputId": "453f6f59-901e-4d52-fd35-d08106dc35a0"
      },
      "source": [
        "print (\"Adding one %d and two %d give three %d\"%(1,2,3))"
      ],
      "execution_count": 4,
      "outputs": [
        {
          "output_type": "stream",
          "text": [
            "Adding one 1 and two 2 give three 3\n"
          ],
          "name": "stdout"
        }
      ]
    },
    {
      "cell_type": "markdown",
      "metadata": {
        "id": "QxrPFd90m727"
      },
      "source": [
        "**NOTE** In python 3, the *print* is a buildin function, therefore in python 3 it is mandatory to give\n",
        "<font color=brown>print(\"Hello World\")</font>"
      ]
    },
    {
      "cell_type": "markdown",
      "metadata": {
        "id": "fg_D2lnRm728"
      },
      "source": [
        "**PYTHON AS CALCULATOR **"
      ]
    },
    {
      "cell_type": "code",
      "metadata": {
        "id": "NBnnsWtTm728"
      },
      "source": [
        "a = 3.0\n",
        "b = 3*a\n",
        "c = 4 + a - b"
      ],
      "execution_count": 5,
      "outputs": []
    },
    {
      "cell_type": "code",
      "metadata": {
        "colab": {
          "base_uri": "https://localhost:8080/"
        },
        "id": "zzNZsRYPm728",
        "outputId": "e32189c9-5df5-4ec1-f29e-08a17e19b374"
      },
      "source": [
        "print (type(a), type(b), type(c))"
      ],
      "execution_count": 6,
      "outputs": [
        {
          "output_type": "stream",
          "text": [
            "<class 'float'> <class 'float'> <class 'float'>\n"
          ],
          "name": "stdout"
        }
      ]
    },
    {
      "cell_type": "code",
      "metadata": {
        "colab": {
          "base_uri": "https://localhost:8080/"
        },
        "id": "fHKDXNlZm728",
        "outputId": "8d0e0e23-6599-46fd-b36b-0a98d46c4109"
      },
      "source": [
        "print (\"a=%d, b=%d, c=%d\"%(a, b, c))"
      ],
      "execution_count": 7,
      "outputs": [
        {
          "output_type": "stream",
          "text": [
            "a=3, b=9, c=-2\n"
          ],
          "name": "stdout"
        }
      ]
    },
    {
      "cell_type": "code",
      "metadata": {
        "colab": {
          "base_uri": "https://localhost:8080/"
        },
        "id": "fkEEGr4_m728",
        "outputId": "0096f51a-e978-4e23-d904-d2b19380ef62"
      },
      "source": [
        "print (b/a, a/c)                     # Dividing with integers gives integer (rounded off)"
      ],
      "execution_count": 8,
      "outputs": [
        {
          "output_type": "stream",
          "text": [
            "3.0 -1.5\n"
          ],
          "name": "stdout"
        }
      ]
    },
    {
      "cell_type": "code",
      "metadata": {
        "id": "ttPAzw1Tm729",
        "outputId": "1c55c02d-5d2e-4a09-8ed9-b9fbd6c709a2"
      },
      "source": [
        "print (a/float(c))                   # To get proper division either one of the integer should be converted to float."
      ],
      "execution_count": null,
      "outputs": [
        {
          "output_type": "stream",
          "text": [
            "-1.5\n"
          ],
          "name": "stdout"
        }
      ]
    },
    {
      "cell_type": "code",
      "metadata": {
        "id": "t1rFsfTcm729",
        "outputId": "28838d3a-a9fc-438a-d49a-d80f5f7c754b"
      },
      "source": [
        "from __future__ import division    # This ensures that the division between integers gives float.\n",
        "print (a/c)"
      ],
      "execution_count": null,
      "outputs": [
        {
          "output_type": "stream",
          "text": [
            "-1.5\n"
          ],
          "name": "stdout"
        }
      ]
    },
    {
      "cell_type": "code",
      "metadata": {
        "id": "qB-C5t-Ym729",
        "outputId": "0fccad5b-c3e6-49b8-f177-9da67ead4370"
      },
      "source": [
        "print (a//c)                         #force integer division after importing division."
      ],
      "execution_count": null,
      "outputs": [
        {
          "output_type": "stream",
          "text": [
            "-2.0\n"
          ],
          "name": "stdout"
        }
      ]
    },
    {
      "cell_type": "code",
      "metadata": {
        "colab": {
          "base_uri": "https://localhost:8080/"
        },
        "id": "aFm4vLQim72-",
        "outputId": "6a2ab797-fad3-4298-9f37-32ac6229e5e5"
      },
      "source": [
        "d = 20.0\n",
        "e = d%3                            #Modulo of the number.\n",
        "print (e, type(e))\n",
        "%whos                              #Shows the variables and functions in current namespace. "
      ],
      "execution_count": 10,
      "outputs": [
        {
          "output_type": "stream",
          "text": [
            "2.0 <class 'float'>\n",
            "No variables match your requested type.\n"
          ],
          "name": "stdout"
        }
      ]
    },
    {
      "cell_type": "markdown",
      "metadata": {
        "id": "ZaIGSA5Xm72-"
      },
      "source": [
        "Python also has many **magic** words which helps to short-cut some of basic functionals. "
      ]
    },
    {
      "cell_type": "code",
      "metadata": {
        "colab": {
          "base_uri": "https://localhost:8080/"
        },
        "id": "oGjPuka6m72-",
        "outputId": "839bbc27-4b04-434e-ba4e-bddecb72ad47"
      },
      "source": [
        "%timeit d%3                        # Runs many many iterations of the same command and times it. (Execution time)"
      ],
      "execution_count": 11,
      "outputs": [
        {
          "output_type": "stream",
          "text": [
            "The slowest run took 27.77 times longer than the fastest. This could mean that an intermediate result is being cached.\n",
            "10000000 loops, best of 5: 88.6 ns per loop\n"
          ],
          "name": "stdout"
        }
      ]
    },
    {
      "cell_type": "code",
      "metadata": {
        "id": "L3VzDrJsm72_",
        "outputId": "41690ca7-558b-40cd-9e4e-586c7238990b"
      },
      "source": [
        "%run testmagic.py"
      ],
      "execution_count": null,
      "outputs": [
        {
          "output_type": "stream",
          "text": [
            "ERROR:root:File `'testmagic.py'` not found.\n"
          ],
          "name": "stderr"
        }
      ]
    },
    {
      "cell_type": "markdown",
      "metadata": {
        "id": "IY3wHko2m72_"
      },
      "source": [
        "**PYTHON NUMERICAL TYPES**\n",
        "\n",
        "1. *Int*:      Integer e.g. a = 4\n",
        "\n",
        "2. *Float*:    Float e.g. a = 4.0\n",
        "\n",
        "3. *Complex*:  Complex number e.g. a  = 1.5 + 5.0j\n",
        "\n",
        "4. *Boolean*:  Takes either True or False e.g. a = 3 > 4"
      ]
    },
    {
      "cell_type": "code",
      "metadata": {
        "id": "b7R1jBs_m72_",
        "outputId": "ef6a06b0-a9a5-4351-cfaa-2a7c55cfc6b3"
      },
      "source": [
        "a = 1.5 + 5.0j\n",
        "print (type(a))                                 # Complex number\n",
        "print (a.real, a.imag)                          # printing the real and imaginary part --> notice the \"dot\" operator!\n",
        "print (type(a.real), type((a.imag)))         "
      ],
      "execution_count": null,
      "outputs": [
        {
          "output_type": "stream",
          "text": [
            "<class 'complex'>\n",
            "1.5 5.0\n",
            "<class 'float'> <class 'float'>\n"
          ],
          "name": "stdout"
        }
      ]
    },
    {
      "cell_type": "code",
      "metadata": {
        "id": "FWxEXf0Am72_",
        "outputId": "76d12e42-beb1-4815-a534-c61172723d31"
      },
      "source": [
        "a = 3 > 4\n",
        "print (a, type(a), id(a))"
      ],
      "execution_count": null,
      "outputs": [
        {
          "output_type": "stream",
          "text": [
            "False <class 'bool'> 140720942459248\n"
          ],
          "name": "stdout"
        }
      ]
    },
    {
      "cell_type": "markdown",
      "metadata": {
        "id": "vYrHoYf8m73A"
      },
      "source": [
        "**PYTHON TERMINOLOGY**\n",
        "\n",
        "All the data stored in the Python program is build around a concept of an object. Objects include fundamental datatypes such as numbers, strings, lists, dictionaries. It is also possible to create a user-defined object \n",
        "in form of *classes*. (Lecture 3)\n",
        "\n",
        "Every piece of data stored in a program is an object. And each object has a value and an identity. \n",
        "For example : a = 4, is an integer object. Its identity *id(a)* is the pointer to its location in memory and its value is 4.\n",
        "\n",
        "Now the *type(a)* itself is an object that describes the internal representation of the object and the method and operations that it supports.\n",
        "\n",
        "After a object is created, its identity (location in memory) and type can not be further changed.\n",
        "> A *mutable* object is one whose value can be changed, whereas this is not possible for *immutable* object. \n",
        "\n",
        "> An object that contains references to other objects is called *container* or *collection*.\n",
        "\n",
        "> Additionally to holding a value, manu objects define a number of data *attributes* and *methods*\n",
        "\n",
        "An attribute is a property or value associated with an object. \n",
        "For example a = 1.5 + 5.0j is a *complex object* and the attribute *a.real* gives the real number of the *complex object*. \n",
        "\n",
        "A method is a function that performs some sort of operation on an object when the method is invoked. \n",
        "For example  b = [1, 3, 4] is a *list object* and the operation to add a number to this list is called the *append* method i.e., b.append(7) will add 7 to the list. \n",
        "\n",
        "Both Attributes and method are accessed using the *dot* (.) operator. \n",
        "\n",
        "\n"
      ]
    },
    {
      "cell_type": "markdown",
      "metadata": {
        "id": "94uM8Y_mm73A"
      },
      "source": [
        "**PYTHON CONTAINERS** -- LIST "
      ]
    },
    {
      "cell_type": "code",
      "metadata": {
        "id": "a1DjpYBkm73A",
        "outputId": "8df262d4-5d3e-4d07-93ce-2eeea39f34d8"
      },
      "source": [
        "cols = ['red', 'blue', 'green', 'black', 'white']\n",
        "print ((type(cols), len(cols)))"
      ],
      "execution_count": null,
      "outputs": [
        {
          "output_type": "stream",
          "text": [
            "(<class 'list'>, 5)\n"
          ],
          "name": "stdout"
        }
      ]
    },
    {
      "cell_type": "markdown",
      "metadata": {
        "id": "zjpwFo6fm73A"
      },
      "source": [
        "*Indexing* in PYTHON starts from 0! Just like C. Counting from behind is also possible with negative index."
      ]
    },
    {
      "cell_type": "code",
      "metadata": {
        "id": "qzQY_8B6m73B",
        "outputId": "4d953b82-2f57-4f6d-e657-c0a8e316df3c"
      },
      "source": [
        "print (cols[2])                 #Third element of the list\n",
        "print (cols[-1])                #Last element of the list\n",
        "print (cols[-2])                "
      ],
      "execution_count": null,
      "outputs": [
        {
          "output_type": "stream",
          "text": [
            "green\n",
            "white\n",
            "black\n"
          ],
          "name": "stdout"
        }
      ]
    },
    {
      "cell_type": "markdown",
      "metadata": {
        "id": "BHFnfZ08m73B"
      },
      "source": [
        "*Slicing* of lists to obtain sublists as required. *Syntax* : listname[start:stop:stride]; where all slicing params are optional.\n",
        "> if no start is given by default its taken to be 0.\n",
        "\n",
        "> if no stop is given then by default is taken to be -1\n",
        "\n",
        "> if no stride is given then by default it is taken to be 1"
      ]
    },
    {
      "cell_type": "code",
      "metadata": {
        "id": "hgp07aPsm73B",
        "outputId": "3af6fef9-39d9-43a4-e709-b2da91056789"
      },
      "source": [
        "print (cols)                 # Complete list\n",
        "print (cols[2:4])            # thrid and fourth element. \n",
        "print (cols[3:])             # fourth and fifth element.\n",
        "print (cols[:3])             # first, second and third element\n",
        "print (cols[::2])            # Starting from 0 to end of list but with stride of 2. i.e., every alternate element"
      ],
      "execution_count": null,
      "outputs": [
        {
          "output_type": "stream",
          "text": [
            "['red', 'blue', 'green', 'black', 'white']\n",
            "['green', 'black']\n",
            "['black', 'white']\n",
            "['red', 'blue', 'green']\n",
            "['red', 'green', 'white']\n"
          ],
          "name": "stdout"
        }
      ]
    },
    {
      "cell_type": "markdown",
      "metadata": {
        "id": "_ZOpNeaGm73B"
      },
      "source": [
        "Lists in python are **mutable**. They can be changed as and when required. "
      ]
    },
    {
      "cell_type": "code",
      "metadata": {
        "id": "k2xp2n90m73B",
        "outputId": "15a02d10-d658-4ed0-bcb0-f76690d5fa3b"
      },
      "source": [
        "cols[0] = 'yellow'\n",
        "print (cols)"
      ],
      "execution_count": null,
      "outputs": [
        {
          "output_type": "stream",
          "text": [
            "['yellow', 'blue', 'green', 'black', 'white']\n"
          ],
          "name": "stdout"
        }
      ]
    },
    {
      "cell_type": "code",
      "metadata": {
        "id": "Wu2WyXOJm73C",
        "outputId": "1a6f70c9-be39-4d16-d0fc-b3eb953b70bf"
      },
      "source": [
        "cols[2:4] = ['gray', 'purple']\n",
        "print (cols)"
      ],
      "execution_count": null,
      "outputs": [
        {
          "output_type": "stream",
          "text": [
            "['yellow', 'blue', 'gray', 'purple', 'white']\n"
          ],
          "name": "stdout"
        }
      ]
    },
    {
      "cell_type": "markdown",
      "metadata": {
        "id": "YXFzyyMbm73C"
      },
      "source": [
        "The items inside the list can have *different* types"
      ]
    },
    {
      "cell_type": "code",
      "metadata": {
        "id": "AHM1hFMSm73C",
        "outputId": "571fdf80-1502-4e0b-d25f-a4604249c2c7"
      },
      "source": [
        "cols = [3, -20.0, 'hello']\n",
        "print (type(cols), type(cols[0]), type(cols[1]), type(cols[-1]))"
      ],
      "execution_count": null,
      "outputs": [
        {
          "output_type": "stream",
          "text": [
            "<class 'list'> <class 'int'> <class 'float'> <class 'str'>\n"
          ],
          "name": "stdout"
        }
      ]
    },
    {
      "cell_type": "markdown",
      "metadata": {
        "id": "CqIQfGs-m73C"
      },
      "source": [
        "*Manipulating* with the list object : Add, remove, reverse, repeat, concatenate, sort etc."
      ]
    },
    {
      "cell_type": "markdown",
      "metadata": {
        "id": "SGOim2ZUm73C"
      },
      "source": [
        "A. Adding and Removing "
      ]
    },
    {
      "cell_type": "code",
      "metadata": {
        "id": "ojG6eLzEm73C",
        "outputId": "c06fd287-47dc-4583-a87a-be6dfaf13b75"
      },
      "source": [
        "cols = ['red', 'blue', 'green', 'black', 'white']\n",
        "\n",
        "cols.append('pink')           # Adds only one object\n",
        "print (cols)\n",
        "cols.pop()                    # Only removes the last item of the list.\n",
        "print (cols)"
      ],
      "execution_count": null,
      "outputs": [
        {
          "output_type": "stream",
          "text": [
            "['red', 'blue', 'green', 'black', 'white', 'pink']\n",
            "['red', 'blue', 'green', 'black', 'white']\n"
          ],
          "name": "stdout"
        }
      ]
    },
    {
      "cell_type": "code",
      "metadata": {
        "id": "KTFt21SOm73D",
        "outputId": "86349f4d-8d7f-4b3d-933f-8db1bef8b985"
      },
      "source": [
        "cols.append(['pink', 'orange'])\n",
        "print (cols, len(cols), type(cols[-1]))\n",
        "cols.pop()\n",
        "print (cols)"
      ],
      "execution_count": null,
      "outputs": [
        {
          "output_type": "stream",
          "text": [
            "['red', 'blue', 'green', 'black', 'white', ['pink', 'orange']] 6 <class 'list'>\n",
            "['red', 'blue', 'green', 'black', 'white']\n"
          ],
          "name": "stdout"
        }
      ]
    },
    {
      "cell_type": "code",
      "metadata": {
        "id": "4wFLsTyJm73D",
        "outputId": "4faa36ae-def2-4491-f19e-83c5c9a8f6ce"
      },
      "source": [
        "cols.extend(['pink', 'orange'])\n",
        "print (cols, len(cols), type(cols[-1]))\n",
        "cols.remove('pink')                      # Removes the first occurence of the value 'pink'\n",
        "print (cols)\n",
        "cols.pop()\n",
        "print (cols)"
      ],
      "execution_count": null,
      "outputs": [
        {
          "output_type": "stream",
          "text": [
            "['red', 'blue', 'green', 'black', 'white', 'pink', 'orange'] 7 <class 'str'>\n",
            "['red', 'blue', 'green', 'black', 'white', 'orange']\n",
            "['red', 'blue', 'green', 'black', 'white']\n"
          ],
          "name": "stdout"
        }
      ]
    },
    {
      "cell_type": "markdown",
      "metadata": {
        "id": "bVEfX1oBm73D"
      },
      "source": [
        "B. Reversing the List"
      ]
    },
    {
      "cell_type": "code",
      "metadata": {
        "id": "X4FqJWInm73D",
        "outputId": "a0b9f7fd-c155-4427-9cad-a4d813a82433"
      },
      "source": [
        "rcols = cols[::-1]\n",
        "print (cols, rcols)"
      ],
      "execution_count": null,
      "outputs": [
        {
          "output_type": "stream",
          "text": [
            "['red', 'blue', 'green', 'black', 'white'] ['white', 'black', 'green', 'blue', 'red']\n"
          ],
          "name": "stdout"
        }
      ]
    },
    {
      "cell_type": "code",
      "metadata": {
        "id": "Mjwz_c8Lm73E",
        "outputId": "64c45914-0cc2-42c2-bc58-3409e23135b9"
      },
      "source": [
        "rcols2 = list(cols)                   # Very important to put the list argument : Creates a copy\n",
        "rcols2.reverse()                      # reverse in place.\n",
        "print (cols, rcols2)"
      ],
      "execution_count": null,
      "outputs": [
        {
          "output_type": "stream",
          "text": [
            "['red', 'blue', 'green', 'black', 'white'] ['white', 'black', 'green', 'blue', 'red']\n"
          ],
          "name": "stdout"
        }
      ]
    },
    {
      "cell_type": "markdown",
      "metadata": {
        "id": "bcnLRGvAm73E"
      },
      "source": [
        "C. Concatenate and Repeating the list"
      ]
    },
    {
      "cell_type": "code",
      "metadata": {
        "id": "gfQQhDZ9m73E",
        "outputId": "dbd5c274-8d2a-43fb-f850-c1c80d33d244"
      },
      "source": [
        "print (rcols + cols)                 # cocatenate two lists. "
      ],
      "execution_count": null,
      "outputs": [
        {
          "output_type": "stream",
          "text": [
            "['white', 'black', 'green', 'blue', 'red', 'red', 'blue', 'green', 'black', 'white']\n"
          ],
          "name": "stdout"
        }
      ]
    },
    {
      "cell_type": "code",
      "metadata": {
        "id": "Mr5Gt_fim73E",
        "outputId": "3fd726ec-d57b-457e-bf2a-8e040c3fdea2"
      },
      "source": [
        "print (cols*5)                       # repeat the list multiple times."
      ],
      "execution_count": null,
      "outputs": [
        {
          "output_type": "stream",
          "text": [
            "['red', 'blue', 'green', 'black', 'white', 'red', 'blue', 'green', 'black', 'white', 'red', 'blue', 'green', 'black', 'white', 'red', 'blue', 'green', 'black', 'white', 'red', 'blue', 'green', 'black', 'white']\n"
          ],
          "name": "stdout"
        }
      ]
    },
    {
      "cell_type": "markdown",
      "metadata": {
        "id": "4bMc9i7vm73F"
      },
      "source": [
        "E. Sorting the list "
      ]
    },
    {
      "cell_type": "code",
      "metadata": {
        "id": "1YlauSd3m73F",
        "outputId": "b27c7517-f0ef-45eb-e5a5-7ef554b29a1d"
      },
      "source": [
        "sorted(rcols)                      # sorted array as a new object."
      ],
      "execution_count": null,
      "outputs": [
        {
          "output_type": "execute_result",
          "data": {
            "text/plain": [
              "['black', 'blue', 'green', 'red', 'white']"
            ]
          },
          "metadata": {
            "tags": []
          },
          "execution_count": 47
        }
      ]
    },
    {
      "cell_type": "code",
      "metadata": {
        "id": "NkPc2_nZm73F",
        "outputId": "ae307a3c-0515-42f9-86b6-b9dfe6b16e13"
      },
      "source": [
        "print (rcols)                        # Original list is not touched."
      ],
      "execution_count": null,
      "outputs": [
        {
          "output_type": "stream",
          "text": [
            "['white', 'black', 'green', 'blue', 'red']\n"
          ],
          "name": "stdout"
        }
      ]
    },
    {
      "cell_type": "code",
      "metadata": {
        "id": "JJIwz4mOm73F",
        "outputId": "f831beb7-ec52-48ca-f4ae-c546add53119"
      },
      "source": [
        "rcols.sort()                        # Sorting is done in place\n",
        "print (rcols)"
      ],
      "execution_count": null,
      "outputs": [
        {
          "output_type": "stream",
          "text": [
            "['black', 'blue', 'green', 'red', 'white']\n"
          ],
          "name": "stdout"
        }
      ]
    },
    {
      "cell_type": "code",
      "metadata": {
        "id": "RDLPwOLjm73G",
        "outputId": "92d05c78-ade9-45c8-ea0a-73f5cb7a1049"
      },
      "source": [
        "rcols.sort(key = lambda s: len(s))   # Using inline function : lambda \n",
        "print (rcols)"
      ],
      "execution_count": null,
      "outputs": [
        {
          "output_type": "error",
          "ename": "AttributeError",
          "evalue": "'NoneType' object has no attribute 'sort'",
          "traceback": [
            "\u001b[1;31m---------------------------------------------------------------------------\u001b[0m",
            "\u001b[1;31mAttributeError\u001b[0m                            Traceback (most recent call last)",
            "\u001b[1;32m<ipython-input-54-57b90ab93562>\u001b[0m in \u001b[0;36m<module>\u001b[1;34m\u001b[0m\n\u001b[1;32m----> 1\u001b[1;33m \u001b[0mrcols\u001b[0m\u001b[1;33m.\u001b[0m\u001b[0msort\u001b[0m\u001b[1;33m(\u001b[0m\u001b[0mkey\u001b[0m \u001b[1;33m=\u001b[0m \u001b[1;32mlambda\u001b[0m \u001b[0ms\u001b[0m\u001b[1;33m:\u001b[0m \u001b[0mlen\u001b[0m\u001b[1;33m(\u001b[0m\u001b[0ms\u001b[0m\u001b[1;33m)\u001b[0m\u001b[1;33m)\u001b[0m   \u001b[1;31m# Using inline function : lambda\u001b[0m\u001b[1;33m\u001b[0m\u001b[1;33m\u001b[0m\u001b[0m\n\u001b[0m\u001b[0;32m      2\u001b[0m \u001b[0mprint\u001b[0m \u001b[1;33m(\u001b[0m\u001b[0mrcols\u001b[0m\u001b[1;33m)\u001b[0m\u001b[1;33m\u001b[0m\u001b[1;33m\u001b[0m\u001b[0m\n",
            "\u001b[1;31mAttributeError\u001b[0m: 'NoneType' object has no attribute 'sort'"
          ]
        }
      ]
    },
    {
      "cell_type": "markdown",
      "metadata": {
        "id": "WPfcpLjDm73G"
      },
      "source": [
        "**PYTHON CONTAINERS** -- STRINGS\n",
        "\n",
        "Strings are collections just like the list and can also be indexed and sliced as we saw for the list object. The syntax and rules used for the list applies in exactly the same manner to strings as well. \n",
        "\n",
        "**NOTE** Strings in Python are *immutable* object can not be replaced in place. "
      ]
    },
    {
      "cell_type": "code",
      "metadata": {
        "id": "sFB7DRGim73G",
        "outputId": "b2231d09-2605-4630-a005-a1226167bb0d"
      },
      "source": [
        "s = 'Hello, how are you ?'                 # Single quotes\n",
        "s = \"Hey what's your name?\"                # double quotes.\n",
        "\n",
        "# Tripling the quotes allows to span more than one line. \n",
        "s = ''' This is first line\n",
        "        and now second line'''\n",
        "print (s)\n",
        "\n",
        "# and also tripling double quotes.\n",
        "s = \"\"\" Hey there again\n",
        "what's up?\"\"\"\n",
        "print (s)"
      ],
      "execution_count": null,
      "outputs": [
        {
          "output_type": "stream",
          "text": [
            " This is first line\n",
            "        and now second line\n",
            " Hey there again\n",
            "what's up?\n"
          ],
          "name": "stdout"
        }
      ]
    },
    {
      "cell_type": "code",
      "metadata": {
        "id": "u7mFsi11m73G",
        "outputId": "8ad6cdad-f8a3-4f18-d98a-44a793ba448c"
      },
      "source": [
        "a = 'astronomy'\n",
        "print (type(a), len(a))"
      ],
      "execution_count": null,
      "outputs": [
        {
          "output_type": "stream",
          "text": [
            "<class 'str'> 9\n"
          ],
          "name": "stdout"
        }
      ]
    },
    {
      "cell_type": "code",
      "metadata": {
        "id": "RH8vtNHWm73H",
        "outputId": "9546abd3-914a-485a-a900-a9bf79a2d39f"
      },
      "source": [
        "print (a[0], a[-1], a[4:6], a[::3])"
      ],
      "execution_count": null,
      "outputs": [
        {
          "output_type": "stream",
          "text": [
            "a y on aro\n"
          ],
          "name": "stdout"
        }
      ]
    },
    {
      "cell_type": "code",
      "metadata": {
        "id": "L5bX8cvXm73H",
        "outputId": "8eacc08c-5db4-46f0-8874-7423469eb97c"
      },
      "source": [
        "a[-1] = 'i'         # Replace 'y' at the end with 'i'"
      ],
      "execution_count": null,
      "outputs": [
        {
          "output_type": "error",
          "ename": "TypeError",
          "evalue": "'str' object does not support item assignment",
          "traceback": [
            "\u001b[1;31m---------------------------------------------------------------------------\u001b[0m",
            "\u001b[1;31mTypeError\u001b[0m                                 Traceback (most recent call last)",
            "\u001b[1;32m<ipython-input-58-88ce2f843a70>\u001b[0m in \u001b[0;36m<module>\u001b[1;34m\u001b[0m\n\u001b[1;32m----> 1\u001b[1;33m \u001b[0ma\u001b[0m\u001b[1;33m[\u001b[0m\u001b[1;33m-\u001b[0m\u001b[1;36m1\u001b[0m\u001b[1;33m]\u001b[0m \u001b[1;33m=\u001b[0m \u001b[1;34m'i'\u001b[0m         \u001b[1;31m# Replace 'y' at the end with 'i'\u001b[0m\u001b[1;33m\u001b[0m\u001b[1;33m\u001b[0m\u001b[0m\n\u001b[0m",
            "\u001b[1;31mTypeError\u001b[0m: 'str' object does not support item assignment"
          ]
        }
      ]
    },
    {
      "cell_type": "code",
      "metadata": {
        "id": "Gx9qiFwZm73H",
        "outputId": "79ca5a43-0dc7-4e63-cdcb-217424c6c6a3"
      },
      "source": [
        "a.replace('o', 'q')"
      ],
      "execution_count": null,
      "outputs": [
        {
          "output_type": "execute_result",
          "data": {
            "text/plain": [
              "'astrqnqmy'"
            ]
          },
          "metadata": {
            "tags": []
          },
          "execution_count": 59
        }
      ]
    },
    {
      "cell_type": "code",
      "metadata": {
        "id": "m5o2FPUDm73H",
        "outputId": "d3cb41eb-7fe8-48d5-920d-ba3c8d12c89e"
      },
      "source": [
        "a.replace('o', 'q', )"
      ],
      "execution_count": null,
      "outputs": [
        {
          "output_type": "execute_result",
          "data": {
            "text/plain": [
              "'astrqnqmy'"
            ]
          },
          "metadata": {
            "tags": []
          },
          "execution_count": 61
        }
      ]
    },
    {
      "cell_type": "code",
      "metadata": {
        "id": "jks1C14Vm73I",
        "outputId": "fd0d72be-6cb4-4835-cbac-e8428cbf6e10"
      },
      "source": [
        "b = ''.join(a[3:6])            # Joining the empty string with another string\n",
        "print (b)"
      ],
      "execution_count": null,
      "outputs": [
        {
          "output_type": "stream",
          "text": [
            "ron\n"
          ],
          "name": "stdout"
        }
      ]
    },
    {
      "cell_type": "code",
      "metadata": {
        "id": "a3CUMCcCm73I",
        "outputId": "a29d2756-4d52-4f54-b9f3-c65460227842"
      },
      "source": [
        "b.upper()                     # To get capital letters."
      ],
      "execution_count": null,
      "outputs": [
        {
          "output_type": "execute_result",
          "data": {
            "text/plain": [
              "'RON'"
            ]
          },
          "metadata": {
            "tags": []
          },
          "execution_count": 63
        }
      ]
    },
    {
      "cell_type": "code",
      "metadata": {
        "id": "Q1zhJpGjm73I",
        "outputId": "78cf52e3-cb21-4456-c62b-5f6ee9e84cc9"
      },
      "source": [
        "'The string %s has %d letters'%(b.upper(),len(b))"
      ],
      "execution_count": null,
      "outputs": [
        {
          "output_type": "execute_result",
          "data": {
            "text/plain": [
              "'The string RON has 3 letters'"
            ]
          },
          "metadata": {
            "tags": []
          },
          "execution_count": 64
        }
      ]
    },
    {
      "cell_type": "markdown",
      "metadata": {
        "id": "sUO4tEXVm73I"
      },
      "source": [
        "**PYTHON CONTAINERS** -- DICTIONARIES.\n",
        "\n",
        "This is a very efficient table that maps set of keys to  their correspondoing values. For this container Ordering is not important. "
      ]
    },
    {
      "cell_type": "code",
      "metadata": {
        "id": "eGZuG3_Mm73I"
      },
      "source": [
        "obs = {'Radio':'VLA', 'Xray':'Chandra', 'Optical':'Hubble', 'Gamma':'Fermi', 'IR':'Herschel'}"
      ],
      "execution_count": null,
      "outputs": []
    },
    {
      "cell_type": "code",
      "metadata": {
        "id": "5S-XFaHRm73J",
        "outputId": "d51120af-62f8-457e-dc23-5696155d37fd"
      },
      "source": [
        "print (type(obs))"
      ],
      "execution_count": null,
      "outputs": [
        {
          "output_type": "stream",
          "text": [
            "<class 'dict'>\n"
          ],
          "name": "stdout"
        }
      ]
    },
    {
      "cell_type": "code",
      "metadata": {
        "id": "rSSFsc8Rm73J",
        "outputId": "4a862cc2-f900-4491-a344-cfdd12a9fd24"
      },
      "source": [
        "print (obs.keys(), obs.values())"
      ],
      "execution_count": null,
      "outputs": [
        {
          "output_type": "stream",
          "text": [
            "dict_keys(['Radio', 'Xray', 'Optical', 'Gamma', 'IR']) dict_values(['VLA', 'Chandra', 'Hubble', 'Fermi', 'Herschel'])\n"
          ],
          "name": "stdout"
        }
      ]
    },
    {
      "cell_type": "code",
      "metadata": {
        "id": "0vrZc1Ipm73J",
        "outputId": "9842e4b3-3e92-4170-c0e6-f88888892865"
      },
      "source": [
        "obs['IR']"
      ],
      "execution_count": null,
      "outputs": [
        {
          "output_type": "execute_result",
          "data": {
            "text/plain": [
              "'Herschel'"
            ]
          },
          "metadata": {
            "tags": []
          },
          "execution_count": 68
        }
      ]
    },
    {
      "cell_type": "code",
      "metadata": {
        "id": "Kz8naWIHm73J",
        "outputId": "548e33ac-48ad-4f7e-8b24-f58b35664822"
      },
      "source": [
        "obs.update({'Submm':['SMA', 'PdBI', 'ALMA']})         # Dictionary can be updated with new key value pair.\n",
        "obs['Xray'] = ['Chandra', 'XMM Newton']               # This is a mutable object just like the list\n",
        "print (obs)"
      ],
      "execution_count": null,
      "outputs": [
        {
          "output_type": "stream",
          "text": [
            "{'Radio': 'VLA', 'Xray': ['Chandra', 'XMM Newton'], 'Optical': 'Hubble', 'Gamma': 'Fermi', 'IR': 'Herschel', 'Submm': ['SMA', 'PdBI', 'ALMA']}\n"
          ],
          "name": "stdout"
        }
      ]
    },
    {
      "cell_type": "markdown",
      "metadata": {
        "id": "aOhL55IYm73J"
      },
      "source": [
        "There are other *Python* containers like the **Tuples** and **set** but are very rarely used. One important container we have not discussed yet is that of an **Array** -- A collection of same type of items. For manipulating the array we need a standard Python Package called **Numpy** which will be discussed in next lecture. "
      ]
    },
    {
      "cell_type": "markdown",
      "metadata": {
        "id": "ufGaUIjDm73K"
      },
      "source": [
        "**CONTROL FLOWS IN PYTHON**\n",
        "\n",
        "Controls the order in which the code is to be executed. \n",
        "\n",
        "**if/else/if**"
      ]
    },
    {
      "cell_type": "code",
      "metadata": {
        "id": "JhYyXla1m73K",
        "outputId": "f06b87e5-abe0-4e5b-ad2a-4a9b846b82c7"
      },
      "source": [
        "a = 10\n",
        "\n",
        "if a < 0:\n",
        "    print ('a = %d is negative'%a)\n",
        "elif a == 0:\n",
        "    print ('a = %d is 0'%a)\n",
        "    #print('a = %d is 0'),%a\n",
        "else:\n",
        "    print ('a = %d is neither negative nor 0'%a)\n",
        "    #print('a = %d is neither negative nor 0'),%a"
      ],
      "execution_count": null,
      "outputs": [
        {
          "output_type": "stream",
          "text": [
            "a = 10 is neither negative nor 0\n"
          ],
          "name": "stdout"
        }
      ]
    },
    {
      "cell_type": "markdown",
      "metadata": {
        "id": "WYhBw1Bcm73K"
      },
      "source": [
        "** for/range**"
      ]
    },
    {
      "cell_type": "code",
      "metadata": {
        "id": "_DjcrDRYm73K",
        "outputId": "98ec70df-e79a-49af-f50a-fee6edf7e7d7"
      },
      "source": [
        "for i in range(4):\n",
        "    print (i)"
      ],
      "execution_count": null,
      "outputs": [
        {
          "output_type": "stream",
          "text": [
            "0\n",
            "1\n",
            "2\n",
            "3\n"
          ],
          "name": "stdout"
        }
      ]
    },
    {
      "cell_type": "code",
      "metadata": {
        "id": "DHVIBdKwm73K",
        "outputId": "5595219f-e552-4414-dddb-b8d892ad1f57"
      },
      "source": [
        "for word in ['fun', 'complex', 'analytical']:\n",
        "    print (\"Astronomy is %s\"%word)"
      ],
      "execution_count": null,
      "outputs": [
        {
          "output_type": "stream",
          "text": [
            "Astronomy is fun\n",
            "Astronomy is complex\n",
            "Astronomy is analytical\n"
          ],
          "name": "stdout"
        }
      ]
    },
    {
      "cell_type": "code",
      "metadata": {
        "id": "wCfP2FcHm73L",
        "outputId": "b9311635-ace2-4f8a-9096-9b148533ec20"
      },
      "source": [
        "sqlist = [i**2 for i in range(1,6,2)]\n",
        "print (range(1,6,2), sqlist)"
      ],
      "execution_count": null,
      "outputs": [
        {
          "output_type": "stream",
          "text": [
            "range(1, 6, 2) [1, 9, 25]\n"
          ],
          "name": "stdout"
        }
      ]
    },
    {
      "cell_type": "code",
      "metadata": {
        "id": "51od2Pngm73L",
        "outputId": "a982361f-cc97-4681-a2bc-9ed115b52f5c"
      },
      "source": [
        "for k, v in obs.items():\n",
        "    print (\"Wavlength : %s \"%k)\n",
        "    print (v)"
      ],
      "execution_count": null,
      "outputs": [
        {
          "output_type": "stream",
          "text": [
            "Wavlength : Radio \n",
            "VLA\n",
            "Wavlength : Xray \n",
            "['Chandra', 'XMM Newton']\n",
            "Wavlength : Optical \n",
            "Hubble\n",
            "Wavlength : Gamma \n",
            "Fermi\n",
            "Wavlength : IR \n",
            "Herschel\n",
            "Wavlength : Submm \n",
            "['SMA', 'PdBI', 'ALMA']\n"
          ],
          "name": "stdout"
        }
      ]
    },
    {
      "cell_type": "code",
      "metadata": {
        "id": "xtNlQSWWm73L",
        "outputId": "b1c88fe6-794a-4337-d126-78bf0e47d1ed"
      },
      "source": [
        "s = 'Astronomy is fun complex and analytical'\n",
        "print (s.split())\n",
        "for w in s.split():\n",
        "    if len(w) > 5:\n",
        "        print (w)"
      ],
      "execution_count": null,
      "outputs": [
        {
          "output_type": "stream",
          "text": [
            "['Astronomy', 'is', 'fun', 'complex', 'and', 'analytical']\n",
            "Astronomy\n",
            "complex\n",
            "analytical\n"
          ],
          "name": "stdout"
        }
      ]
    },
    {
      "cell_type": "markdown",
      "metadata": {
        "id": "1vwOCTPFm73L"
      },
      "source": [
        "**while/break/continue**"
      ]
    },
    {
      "cell_type": "code",
      "metadata": {
        "id": "OuhK9oobm73L",
        "outputId": "7de7f805-b52e-41eb-93c7-586bea249f3a"
      },
      "source": [
        "z = 1 + 1j\n",
        "\n",
        "while abs(z) < 100:\n",
        "    if z.imag == 0:\n",
        "        break                      # breaks out of the while loop if it encounters a pure real number.\n",
        "    z = z**2 + 1\n",
        "    print (z, abs(z))"
      ],
      "execution_count": null,
      "outputs": [
        {
          "output_type": "stream",
          "text": [
            "(1+2j) 2.23606797749979\n",
            "(-2+4j) 4.47213595499958\n",
            "(-11-16j) 19.4164878389476\n",
            "(-134+352j) 376.64306710730784\n"
          ],
          "name": "stdout"
        }
      ]
    },
    {
      "cell_type": "code",
      "metadata": {
        "id": "4IHAVGz-m73M",
        "outputId": "39a27c12-61c4-44d6-eee8-60491f3d7372"
      },
      "source": [
        "a = [1, 0, 2, 4]\n",
        "for element in a:\n",
        "    if element == 0:\n",
        "        continue                  # This will not execute the next lines but will not exit out of the loop.\n",
        "    print (1./element)"
      ],
      "execution_count": null,
      "outputs": [
        {
          "output_type": "stream",
          "text": [
            "1.0\n",
            "0.5\n",
            "0.25\n"
          ],
          "name": "stdout"
        }
      ]
    },
    {
      "cell_type": "markdown",
      "metadata": {
        "id": "fQOB5p8zm73M"
      },
      "source": [
        "** PYTHON FUNCTIONS **\n",
        "\n",
        "For all purposes in scientific computing, we require to have *code repeatablity*. Ideally, one should not write the same algorithm for each and every new dataset. Instead, one should just a function that is general and handles similar datasets. The following code snippets will show how to write a function in Python. "
      ]
    },
    {
      "cell_type": "code",
      "metadata": {
        "id": "h-L6Ulofm73M"
      },
      "source": [
        "def AddPositiveNumbers1(a, b):\n",
        "    return a + b                         # returns the addition of two numbers. \n",
        "\n",
        "#Usually the mandatory input arguments precedes the optional inputs.\n",
        "def AddPositiveNumbers2(a, b, c=None):\n",
        "    if c == None: c = 0\n",
        "    print \"the sum is : %f\"%(a+b+c)\n",
        "    \n",
        "if __name__==\"__main__\":\n",
        "    a = 2.0\n",
        "    b = 3.0\n",
        "    ans1 = AddPositiveNumbers1(a,b)\n",
        "    print ans1\n",
        "    \n",
        "    AddPositiveNumbers2(a,b)\n",
        "    AddPositiveNumbers2(a,b, c=3.0)"
      ],
      "execution_count": null,
      "outputs": []
    },
    {
      "cell_type": "markdown",
      "metadata": {
        "id": "lJVydFkEm73M"
      },
      "source": [
        "**LOADING REQUIRED MODULES**\n",
        "\n",
        "Usually at the begining of a python script, it is required to load all the modules (*pre-compiled libraries*) that will be used in the script.\n",
        "\n",
        "*For example* : Lets develop a script to add two numbers such that the numbers are given as input parameters from the terminal. "
      ]
    },
    {
      "cell_type": "code",
      "metadata": {
        "id": "HoyGM7uum73M"
      },
      "source": [
        "%run addnumbers.py 2 4"
      ],
      "execution_count": null,
      "outputs": []
    },
    {
      "cell_type": "markdown",
      "metadata": {
        "id": "Oj7mPd1Dm73M"
      },
      "source": [
        "**EXERCISES**"
      ]
    },
    {
      "cell_type": "markdown",
      "metadata": {
        "id": "fWYs00j5m73N"
      },
      "source": [
        "1. Consider hydrogen gas having the same density as the density of air under normal temperature and pressure ($\\rho$ = 1.29 kg m$^{-3}$). Given the fact that Ionization potential of hydrogen is 13.6eV, use the *Saha* Equation to calculate the fraction of ionization *x* at different temperatures *T* starting from 10 K to 10^7K and print them in form of a table. [**HINT** : Define *T* and *x* as list and use the quadratic formulae to find the roots] \n",
        "\n",
        "2. The *Crab* Pulsar has period *P = 0.033s* and characteristic slowing time $P/\\dot{P} = 2.5 \\times 10^3$ yr. Estimate the energy loss rate and magnetic field using Python as a calculator. Assume the magnetic dipole axis of the pulsar is almost perpendicular to the reference axis. \n",
        "($\\alpha \\sim \\pi/2 \\rightarrow sin(\\alpha) \\sim 1$)"
      ]
    },
    {
      "cell_type": "markdown",
      "metadata": {
        "id": "51jmuWzZm73N"
      },
      "source": [
        " "
      ]
    }
  ]
}